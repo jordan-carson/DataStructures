{
 "cells": [
  {
   "cell_type": "markdown",
   "metadata": {},
   "source": [
    "# Top DS&Algo Questions for Engineers"
   ]
  },
  {
   "cell_type": "markdown",
   "metadata": {},
   "source": [
    "## Question 1:  How to find the middle element of linked list in one pass?\n",
    "\n",
    "In order to find the middle element of a linked list in one pass, we need to maintain a two-pointer, one increment at each node while the other increments after two nodes at a time. With this arrangement, when the first pointer reaches the end, the second pointer will point to a middle element of the linked list. example is below."
   ]
  },
  {
   "cell_type": "code",
   "execution_count": 10,
   "metadata": {},
   "outputs": [
    {
     "name": "stdout",
     "output_type": "stream",
     "text": [
      "Node no 4 from last is 35\n"
     ]
    }
   ],
   "source": [
    "class Node:\n",
    "    def __init__(self, data):\n",
    "        self.data = data\n",
    "        self.next = None\n",
    "        \n",
    "class LinkedList:\n",
    "    def __init__(self):\n",
    "        self.head = None\n",
    "        \n",
    "    def push(self, new_data):\n",
    "        new_node = Node(new_data)\n",
    "        new_node.next = self.head\n",
    "        self.head = new_node\n",
    "        \n",
    "    def printMiddle(self):\n",
    "        # we create two pointers\n",
    "        slow_ptr = self.head\n",
    "        fast_ptr = self.head\n",
    "        \n",
    "        if self.head is not None:\n",
    "            # then we traverse\n",
    "            while fast_ptr is not None and fast_ptr.next is not None:\n",
    "                fast_ptr = fast_ptr.next.next\n",
    "                slow_ptr = slow_ptr.next\n",
    "            print(\"The Middle element is: \", slow_ptr.data)\n",
    "    def has_cycle(self):\n",
    "        slow, fast = self.head, self.head\n",
    "    \n",
    "        while fast is not None and fast.next is not None:\n",
    "            slow, fast = slow.next, fast.next.next\n",
    "            if slow == fast:\n",
    "                return True\n",
    "        return False\n",
    "    \n",
    "    def print_nth_from_last(self, n):\n",
    "        first_ptr = self.head\n",
    "        second_ptr = self.head\n",
    "        \n",
    "        count = 0\n",
    "        if self.head is not None:\n",
    "            while count < n:\n",
    "                if second_ptr is None:\n",
    "                    print('{} is greater than the number of nodes in Linked List'.format(\n",
    "                        n))\n",
    "                    return\n",
    "                second_ptr = second_ptr.next\n",
    "                count += 1\n",
    "        while second_ptr is not None:\n",
    "            first_ptr = first_ptr.next\n",
    "            second_ptr = second_ptr.next\n",
    "        print(\"Node no {} from last is {}\".format(n, first_ptr.data))\n",
    "    \n",
    "    \n",
    "llist = LinkedList() \n",
    "llist.push(20) \n",
    "llist.push(4) \n",
    "llist.push(15) \n",
    "llist.push(35) \n",
    "  \n",
    "llist.print_nth_from_last(4) "
   ]
  },
  {
   "cell_type": "markdown",
   "metadata": {},
   "source": [
    "## Question 2: How to find if a linked list has a loop?\n",
    "\n",
    "We can use again the same two pointer approach. If we maintain the two pointers and increment one pointer after processing two nodes, while incrementing the other pointer after processing every node, we are likely to find a situation where both the pointers will be pointing to the same node if a cycle or loop exists.\n",
    "\n",
    "**Floyd's Cycle-Finding Algorithm** - which is called the tortoise and the hare algorithm, answer is above, example is below."
   ]
  },
  {
   "cell_type": "code",
   "execution_count": 3,
   "metadata": {
    "collapsed": true
   },
   "outputs": [],
   "source": [
    "def has_cycle(head: Node) -> bool:\n",
    "    slow, fast = head, head\n",
    "    \n",
    "    while fast is not None and fast.next is not None:\n",
    "        slow, fast = slow.next, fast.next.next\n",
    "        if slow == fast:\n",
    "            return True\n",
    "    return False"
   ]
  },
  {
   "cell_type": "markdown",
   "metadata": {},
   "source": [
    "## Question 3: How to find the third (kth) element from the end in a linked list in one pass?\n",
    "\n",
    "Apply the same trick of maintaining two pointers and increment another pointr, when first has moved up to the 3rd element, then after the first pointer reaches the end of the linked list, the second pointer will be pointing to the 3rd element from the last in a linked list. \n",
    "\n",
    "example above & below.\n"
   ]
  },
  {
   "cell_type": "code",
   "execution_count": 11,
   "metadata": {
    "collapsed": true
   },
   "outputs": [],
   "source": [
    "    def print_nth_from_last(self, n):\n",
    "        first_ptr = self.head\n",
    "        second_ptr = self.head\n",
    "        \n",
    "        count = 0\n",
    "        if self.head is not None:\n",
    "            while count < n:\n",
    "                if second_ptr is None:\n",
    "                    print('{} is greater than the number of nodes in Linked List'.format(\n",
    "                        n))\n",
    "                    return\n",
    "                second_ptr = second_ptr.next\n",
    "                count += 1\n",
    "        while second_ptr is not None:\n",
    "            first_ptr = first_ptr.next\n",
    "            second_ptr = second_ptr.next\n",
    "        print(\"Node no {} from last is {}\".format(n, first_ptr.data))"
   ]
  },
  {
   "cell_type": "markdown",
   "metadata": {},
   "source": [
    "## Question 4: In an integer array, there is a 1 to 100 number, out of one is duplicate, how do you find it?\n",
    "\n",
    "First ask the question, do we need to output the duplicate number or a boolean saying there is a duplicate or not?\n",
    "\n",
    "Theres multiple ways to do this, first is brute force, another is to convert that array into a set. set's do not allow duplicates size of the corresponding set will be smaller than original array if array contains duplicates otherwise."
   ]
  },
  {
   "cell_type": "markdown",
   "metadata": {},
   "source": [
    "## Question 6: How to reverse a string in Python?\n",
    "\n"
   ]
  },
  {
   "cell_type": "markdown",
   "metadata": {},
   "source": [
    "## Question 7: Check if a Tree is a BST. \n",
    "\n",
    "Look at each node once, "
   ]
  },
  {
   "cell_type": "markdown",
   "metadata": {},
   "source": [
    "## Question 8: Find the shortest path "
   ]
  },
  {
   "cell_type": "code",
   "execution_count": null,
   "metadata": {
    "collapsed": true
   },
   "outputs": [],
   "source": []
  }
 ],
 "metadata": {
  "kernelspec": {
   "display_name": "Python 3",
   "language": "python",
   "name": "python3"
  },
  "language_info": {
   "codemirror_mode": {
    "name": "ipython",
    "version": 3
   },
   "file_extension": ".py",
   "mimetype": "text/x-python",
   "name": "python",
   "nbconvert_exporter": "python",
   "pygments_lexer": "ipython3",
   "version": "3.6.8"
  }
 },
 "nbformat": 4,
 "nbformat_minor": 2
}
